{
 "cells": [
  {
   "cell_type": "code",
   "execution_count": 71,
   "metadata": {
    "collapsed": false
   },
   "outputs": [
    {
     "name": "stdout",
     "output_type": "stream",
     "text": [
      "The autoreload extension is already loaded. To reload it, use:\n",
      "  %reload_ext autoreload\n"
     ]
    }
   ],
   "source": [
    "%load_ext autoreload\n",
    "%autoreload 2\n",
    "%matplotlib inline\n",
    "\n",
    "import time\n",
    "import numpy as np\n",
    "import pylab as plt\n",
    "\n",
    "import localpaths\n",
    "import subimage"
   ]
  },
  {
   "cell_type": "code",
   "execution_count": null,
   "metadata": {
    "collapsed": true
   },
   "outputs": [],
   "source": [
    "si = subimage.parse_LISA('~/Data/LISA/allAnnotations.csv')"
   ]
  },
  {
   "cell_type": "code",
   "execution_count": 58,
   "metadata": {
    "collapsed": false
   },
   "outputs": [
    {
     "name": "stdout",
     "output_type": "stream",
     "text": [
      "['aiua120214-0', 'aiua120214-1', 'aiua120214-2', 'aiua120306-0', 'aiua120306-1', 'vid0', 'vid1', 'vid10', 'vid11', 'vid2', 'vid3', 'vid4', 'vid5', 'vid6', 'vid7', 'vid8', 'vid9']\n"
     ]
    },
    {
     "data": {
      "image/png": "[encoded data removed]",
      "text/plain": [
       "<matplotlib.figure.Figure at 0x10cf97f28>"
      ]
     },
     "metadata": {},
     "output_type": "display_data"
    }
   ],
   "source": [
    "# Take a look at class representation across the various data cuts\n",
    "all_tracks = list({x : 0 for x in si._gid}.keys())\n",
    "all_tracks.sort()\n",
    "print(all_tracks)\n",
    "\n",
    "y_all = np.array(si._y)\n",
    "examples_per_track = np.zeros((len(all_tracks),))\n",
    "\n",
    "for ii, track_id in enumerate(all_tracks):\n",
    "    idx = [x for x in range(len(si._y)) if si._gid[x] == track_id]\n",
    "    idx = np.array(idx, dtype=np.int32)\n",
    "    y_vals = y_all[idx]\n",
    "    \n",
    "    examples_per_track[ii] = y_vals.size\n",
    "    \n",
    "    #plt.figure()\n",
    "    #plt.hist(y_vals, np.max(y_all))\n",
    "    #plt.title('class labels for track %s' % track_id)\n",
    "\n",
    "    \n",
    "plt.figure()\n",
    "plt.bar(range(len(all_tracks)), examples_per_track)\n",
    "plt.gca().set_xticks(np.arange(len(all_tracks)))\n",
    "plt.gca().set_xticklabels(all_tracks, rotation='vertical', fontsize=8)\n",
    "plt.title('# examples per track')\n",
    "plt.show()"
   ]
  },
  {
   "cell_type": "code",
   "execution_count": null,
   "metadata": {
    "collapsed": false
   },
   "outputs": [
    {
     "name": "stdout",
     "output_type": "stream",
     "text": [
      "# train, # test: 4687 2279\n",
      "loading image 0 (of 4687)\n",
      "loading image 500 (of 4687)\n",
      "loading image 2500 (of 4687)\n",
      "loading image 3000 (of 4687)\n"
     ]
    }
   ],
   "source": [
    "# Propose a track-based train/test split\n",
    "train_grp = ['aiua120214-0', 'aiua120214-1', 'aiua120306-1'] + ['vid%d' % x for x in range(6)]\n",
    "test_grp = ['aiua120214-2', 'aiua120306-0'] + ['vid%d' % x for x in range(6,12)]\n",
    "\n",
    "train_idx = []\n",
    "test_idx = []\n",
    "\n",
    "for gid in train_grp:\n",
    "    indices = [x for x in range(len(si._y)) if si._gid[x] == gid]\n",
    "    assert(len(indices) > 0)\n",
    "    train_idx.extend(indices)\n",
    "    \n",
    "for gid in test_grp:\n",
    "    indices = [x for x in range(len(si._y)) if si._gid[x] == gid]\n",
    "    assert(len(indices) > 0)\n",
    "    test_idx.extend(indices)\n",
    "\n",
    "train_idx = np.array(train_idx, np.int32)\n",
    "test_idx = np.array(test_idx, np.int32)\n",
    "                   \n",
    "print('# train, # test:', len(train_idx), len(test_idx))\n",
    "\n",
    "tic = time.time()\n",
    "x_train, y_train = si.get_subimages(train_idx, verbose=True)\n",
    "x_test, y_test = si.get_subimages(test_idx, verbose=True)\n",
    "print(time.time() - toc, ' seconds to load images')\n",
    "\n",
    "plt.figure()\n",
    "plt.hist(y_train, np.max(y_all)+1)\n",
    "plt.title('Class distribution for train set')\n",
    "\n",
    "plt.figure()\n",
    "plt.hist(y_test, np.max(y_all)+1)\n",
    "plt.title('Class distribution for test set')\n",
    "\n",
    "plt.show()"
   ]
  },
  {
   "cell_type": "code",
   "execution_count": null,
   "metadata": {
    "collapsed": true
   },
   "outputs": [],
   "source": []
  }
 ],
 "metadata": {
  "anaconda-cloud": {},
  "kernelspec": {
   "display_name": "Python [default]",
   "language": "python",
   "name": "python3"
  },
  "language_info": {
   "codemirror_mode": {
    "name": "ipython",
    "version": 3
   },
   "file_extension": ".py",
   "mimetype": "text/x-python",
   "name": "python",
   "nbconvert_exporter": "python",
   "pygments_lexer": "ipython3",
   "version": "3.5.2"
  }
 },
 "nbformat": 4,
 "nbformat_minor": 1
}
