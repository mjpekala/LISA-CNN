{
 "cells": [
  {
   "cell_type": "code",
   "execution_count": 1,
   "metadata": {
    "collapsed": false
   },
   "outputs": [],
   "source": [
    "%load_ext autoreload\n",
    "%autoreload 2\n",
    "%matplotlib inline\n",
    "\n",
    "import time\n",
    "import numpy as np\n",
    "import pylab as plt\n",
    "\n",
    "import localpaths\n",
    "import subimage\n",
    "import gtsrb"
   ]
  },
  {
   "cell_type": "code",
   "execution_count": 2,
   "metadata": {
    "collapsed": false
   },
   "outputs": [
    {
     "name": "stdout",
     "output_type": "stream",
     "text": [
      "39209 images with 43 unique classes\n",
      "12630 images with 1 unique classes\n"
     ]
    }
   ],
   "source": [
    "si_train = gtsrb.parse_train('~/Data/GTSRB/Final_Training/Images')\n",
    "si_test = gtsrb.parse_test('~/Data/GTSRB/Final_Test/Images/GT-final_test.test.csv')\n",
    "\n",
    "print(str(si_train))\n",
    "print(str(si_test))"
   ]
  },
  {
   "cell_type": "code",
   "execution_count": null,
   "metadata": {
    "collapsed": false
   },
   "outputs": [
    {
     "name": "stdout",
     "output_type": "stream",
     "text": [
      "there are 1307 tracks and 39209 images in training set\n",
      "there are 12630 images in test set\n"
     ]
    },
    {
     "data": {
      "image/png": "[encoded data removed]",
      "text/plain": [
       "<matplotlib.figure.Figure at 0x104b476d8>"
      ]
     },
     "metadata": {},
     "output_type": "display_data"
    }
   ],
   "source": [
    "#\n",
    "# Make sure we see the expected number of examples.\n",
    "#\n",
    "trk_to_class, trk_to_cnt = si_train.group_info()\n",
    "print('there are %d tracks and %d images in training set' % (len(trk_to_class), len(si_train)))\n",
    "print('there are %d images in test set' % len(si_test))\n",
    "\n",
    "track_lengths = np.array(list(trk_to_cnt.values()))\n",
    "\n",
    "plt.figure()\n",
    "plt.plot(np.sort(track_lengths), 'o-')\n",
    "plt.title('# examples per track (train)')\n",
    "plt.show()\n"
   ]
  },
  {
   "cell_type": "code",
   "execution_count": null,
   "metadata": {
    "collapsed": false
   },
   "outputs": [],
   "source": [
    "train_idx, test_idx = gtsrb.default_train_test_split(si_train)\n",
    "\n",
    "y_all = np.array(si_train._y, dtype=np.int32)\n",
    "\n",
    "#\n",
    "# overall distribution of examples in train/test\n",
    "#\n",
    "plt.figure()\n",
    "plt.hist(y_all[train_idx], np.max(y_all)+1)\n",
    "plt.grid('on')\n",
    "plt.title('Class distribution for train set')\n",
    "\n",
    "plt.figure()\n",
    "plt.hist(y_all[test_idx], np.max(y_all)+1)\n",
    "plt.grid('on')\n",
    "plt.title('Class distribution for validation set')\n",
    "\n",
    "plt.show()"
   ]
  },
  {
   "cell_type": "code",
   "execution_count": null,
   "metadata": {
    "collapsed": false
   },
   "outputs": [],
   "source": [
    "# Load the images: this is a little slow...\n",
    "tic = time.time()\n",
    "x_train, y_train = si_train.get_subimages(train_idx, verbose=True)\n",
    "x_test, y_test = si_train.get_subimages(train_idx, verbose=True)\n",
    "print(time.time() - tic, ' seconds to load test images')\n",
    "\n",
    "# Note: we don't resize images here, so x_train/x_Test are lists..."
   ]
  },
  {
   "cell_type": "code",
   "execution_count": null,
   "metadata": {
    "collapsed": false
   },
   "outputs": [],
   "source": [
    "#-------------------------------\n",
    "# statistics on image size\n",
    "#-------------------------------\n",
    "rows_train = [x_train[ii].shape[0] for ii in range(len(x_train))]\n",
    "cols_train = [x_train[ii].shape[1] for ii in range(len(x_train))]\n",
    "rows_test = [x_test[ii].shape[0] for ii in range(len(x_test))]\n",
    "cols_test = [x_test[ii].shape[1] for ii in range(len(x_test))]\n",
    "\n",
    "print('median # rows, train:', np.median(rows_train))\n",
    "print('median # rows, test: ', np.median(rows_test))\n",
    "print('median # cols, train:', np.median(cols_train))\n",
    "print('median # cols, test: ', np.median(cols_test))\n",
    "\n",
    "_, bin_edges = np.histogram(rows_train, bins=30)\n",
    "\n",
    "plt.figure()\n",
    "plt.hist(rows_train, bins=bin_edges, alpha=0.5, label='train', normed=True)\n",
    "plt.hist(rows_test, bins=bin_edges, alpha=0.5, label='test', normed=True)\n",
    "plt.legend()\n",
    "plt.title('image heights')\n",
    "\n",
    "_, bin_edges = np.histogram(cols_train, bins=30)\n",
    "\n",
    "plt.figure()\n",
    "plt.hist(cols_train, bins=bin_edges, alpha=0.5, label='train', normed=True)\n",
    "plt.hist(cols_test, bins=bin_edges, alpha=0.5, label='test', normed=True)\n",
    "plt.legend()\n",
    "plt.title('image widths')\n",
    "\n",
    "\n",
    "plt.show()"
   ]
  },
  {
   "cell_type": "code",
   "execution_count": null,
   "metadata": {
    "collapsed": false
   },
   "outputs": [],
   "source": [
    "#-------------------------------\n",
    "# Statistics on pixel intensity values\n",
    "#-------------------------------\n",
    "tmp = [x.ravel() for x in x_train]\n",
    "x_train_flat = np.concatenate(tmp)\n",
    "print(x_train_flat.shape)\n",
    "\n",
    "tmp = [x.ravel() for x in x_test]\n",
    "x_test_flat = np.concatenate(tmp)\n",
    "print(x_test_flat.shape)\n",
    "\n",
    "_, bin_edges = np.histogram(x_train_flat, bins=20)\n",
    "\n",
    "plt.figure()\n",
    "plt.hist(x_train_flat, bins=bin_edges, alpha=0.5, label='train', normed=True)\n",
    "plt.hist(x_test_flat, bins=bin_edges, alpha=0.5, label='test', normed=True)\n",
    "plt.legend()\n",
    "plt.title('pixel intensities')\n",
    "\n",
    "\n",
    "#-------------------------------\n",
    "# Pixel intensities (per image)\n",
    "#-------------------------------\n",
    "median_intensity_train = [np.median(x_train[ii]) for ii in range(len(x_train))]\n",
    "median_intensity_train = np.array(median_intensity_train)\n",
    "idx = np.argsort(median_intensity_train)\n",
    "\n",
    "plt.figure()\n",
    "plt.plot(median_intensity_train[idx])\n",
    "plt.ylabel('median pixel intensity')\n",
    "plt.xlabel('training example')\n",
    "plt.title('median pixel intensity for training data')\n",
    "plt.grid('on')\n",
    "\n",
    "for img_idx in [idx[0], idx[-1]]:\n",
    "    xi = np.squeeze(x_train[img_idx])\n",
    "    xi_centered = (xi - np.mean(xi)) / np.std(xi)\n",
    "    \n",
    "    plt.figure()\n",
    "    plt.subplot(1,2,1)\n",
    "    plt.imshow(xi, interpolation=None, cmap='gray')\n",
    "    plt.title('%0.2f/%0.2f/%0.2f' % (np.min(xi), np.median(xi), np.max(xi)))\n",
    "    \n",
    "    plt.subplot(1,2,2)\n",
    "    plt.imshow(xi_centered, interpolation=None, cmap='gray')\n",
    "    plt.title('median pixel intensity: %0.2f' % np.median(xi_centered))\n",
    "plt.show()\n"
   ]
  }
 ],
 "metadata": {
  "anaconda-cloud": {},
  "kernelspec": {
   "display_name": "Python [default]",
   "language": "python",
   "name": "python3"
  },
  "language_info": {
   "codemirror_mode": {
    "name": "ipython",
    "version": 3
   },
   "file_extension": ".py",
   "mimetype": "text/x-python",
   "name": "python",
   "nbconvert_exporter": "python",
   "pygments_lexer": "ipython3",
   "version": "3.5.2"
  }
 },
 "nbformat": 4,
 "nbformat_minor": 1
}
